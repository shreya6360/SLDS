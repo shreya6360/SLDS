{
 "cells": [
  {
   "cell_type": "code",
   "execution_count": null,
   "metadata": {
    "colab": {},
    "colab_type": "code",
    "id": "L7evfLrJv6It"
   },
   "outputs": [],
   "source": [
    "#Importing the required libraries\n",
    "\n",
    "import os\n",
    "import numpy as np\n",
    "import matplotlib.pyplot as plt\n",
    "import matplotlib.image as mpimg\n",
    "import cv2\n",
    "import imageio"
   ]
  },
  {
   "cell_type": "code",
   "execution_count": null,
   "metadata": {
    "colab": {},
    "colab_type": "code",
    "id": "9xEPyArzv6I3"
   },
   "outputs": [],
   "source": [
    "# Set path to dataset images\n",
    "\n",
    "image_path='ISLDatasets/Dataset'"
   ]
  },
  {
   "cell_type": "code",
   "execution_count": null,
   "metadata": {
    "colab": {},
    "colab_type": "code",
    "id": "wrjx_DlXv6JA"
   },
   "outputs": [],
   "source": [
    "# Load folder into array-image_files and return the array \n",
    "\n",
    "def loadImages(path,label): \n",
    "  image_files=sorted([os.path.join(path,label,file)\n",
    "   for file in os.listdir(path+str('/')+label) if file.endswith('.jpg')\n",
    "  ])\n",
    "  return image_files\n"
   ]
  },
  {
   "cell_type": "code",
   "execution_count": null,
   "metadata": {
    "colab": {},
    "colab_type": "code",
    "id": "-ptDKhcbv6JJ"
   },
   "outputs": [],
   "source": [
    "# Function to display images\n",
    "\n",
    "def display(img,title=\"Original\"):\n",
    "    plt.imshow(img,cmap='gray'),plt.title(title)\n",
    "    plt.show()"
   ]
  },
  {
   "cell_type": "code",
   "execution_count": null,
   "metadata": {
    "colab": {},
    "colab_type": "code",
    "id": "bTMHPyuiv6JR"
   },
   "outputs": [],
   "source": [
    "# Preprocessing all the images to extract ROI i.e. hands\n",
    "\n",
    "def preprocess_images(data, label):\n",
    "    count = 0\n",
    "    # Create directory if it doesn't exist\n",
    "    path = f'ISLRecognition/PreprocessedImages/{label}/'\n",
    "    os.makedirs(path, exist_ok=True)\n",
    "\n",
    "    for image in data:\n",
    "        print(f\"Processing image: {image}\")\n",
    "        \n",
    "        # Reading image\n",
    "        img = imageio.imread(image)\n",
    "        print(f\"Original image shape: {img.shape}\")\n",
    "\n",
    "        if img.ndim == 3 and img.shape[2] == 3:  # Check if the image is RGB\n",
    "            # Converting image to grayscale\n",
    "            gray_img = cv2.cvtColor(img, cv2.COLOR_RGB2GRAY)\n",
    "\n",
    "            # Converting image to HSV format\n",
    "            hsv_img = cv2.cvtColor(img, cv2.COLOR_RGB2HSV)\n",
    "\n",
    "            # ... (rest of the preprocessing steps)\n",
    "\n",
    "        else:  # Grayscale image\n",
    "            gray_img = img\n",
    "            canny = cv2.Canny(gray_img, 60, 60)\n",
    "\n",
    "        # Save preprocessed images\n",
    "        final_path = f'{path}{count}.png'\n",
    "        print(f\"Saving image to: {final_path}\")\n",
    "        cv2.imwrite(final_path, canny)\n",
    "        print(\"Image saved successfully\")\n",
    "        count += 1\n",
    "\n"
   ]
  },
  {
   "cell_type": "code",
   "execution_count": null,
   "metadata": {
    "colab": {},
    "colab_type": "code",
    "id": "R3M7CJ5_v6Ja"
   },
   "outputs": [],
   "source": [
    "# Getting path to all images and preprocessing the images\n",
    "signs = ['0', '1', '2', '3', '4', '5', '6', '7', '8', '9', 'A', 'B', 'C', 'D', 'E', 'F', 'G', 'H', 'I', 'J', 'K', 'L', 'M', 'N', 'O', 'P', 'Q', 'R', 'S', 'T', 'U', 'V', 'W', 'X', 'Y', 'Z']\n",
    "for label in signs:\n",
    "    images = loadImages(image_path, label)\n",
    "    preprocess_images(images, label)"
   ]
  },
  {
   "cell_type": "code",
   "execution_count": null,
   "metadata": {
    "colab": {},
    "colab_type": "code",
    "id": "XF27vIGQv6Jg"
   },
   "outputs": [],
   "source": []
  }
 ],
 "metadata": {
  "colab": {
   "name": "Image Preprocessing.ipynb",
   "provenance": []
  },
  "kernelspec": {
   "display_name": "Python 3",
   "language": "python",
   "name": "python3"
  },
  "language_info": {
   "codemirror_mode": {
    "name": "ipython",
    "version": 3
   },
   "file_extension": ".py",
   "mimetype": "text/x-python",
   "name": "python",
   "nbconvert_exporter": "python",
   "pygments_lexer": "ipython3",
   "version": "3.7.1"
  }
 },
 "nbformat": 4,
 "nbformat_minor": 1
}
